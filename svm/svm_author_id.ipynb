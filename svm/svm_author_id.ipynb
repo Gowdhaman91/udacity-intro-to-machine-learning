{
 "cells": [
  {
   "cell_type": "code",
   "execution_count": 1,
   "metadata": {},
   "outputs": [],
   "source": [
    "#!/usr/bin/python\n",
    "\n",
    "\"\"\" \n",
    "    This is the code to accompany the Lesson 2 (SVM) mini-project.\n",
    "\n",
    "    Use a SVM to identify emails from the Enron corpus by their authors:    \n",
    "    Sara has label 0\n",
    "    Chris has label 1\n",
    "\"\"\"\n",
    "\n",
    "import sys\n",
    "from time import time"
   ]
  },
  {
   "cell_type": "code",
   "execution_count": 2,
   "metadata": {},
   "outputs": [
    {
     "name": "stderr",
     "output_type": "stream",
     "text": [
      "C:\\Users\\gowdhaman.jayavel\\AppData\\Local\\Continuum\\anaconda3\\envs\\py35\\lib\\site-packages\\sklearn\\cross_validation.py:41: DeprecationWarning: This module was deprecated in version 0.18 in favor of the model_selection module into which all the refactored classes and functions are moved. Also note that the interface of the new CV iterators are different from that of this module. This module will be removed in 0.20.\n",
      "  \"This module will be removed in 0.20.\", DeprecationWarning)\n"
     ]
    }
   ],
   "source": [
    "sys.path.append(\"../tools/\")\n",
    "from email_preprocess import preprocess"
   ]
  },
  {
   "cell_type": "code",
   "execution_count": 3,
   "metadata": {},
   "outputs": [
    {
     "name": "stdout",
     "output_type": "stream",
     "text": [
      "no. of Chris training emails: 7936\n",
      "no. of Sara training emails: 7884\n"
     ]
    }
   ],
   "source": [
    "### features_train and features_test are the features for the training\n",
    "### and testing datasets, respectively\n",
    "### labels_train and labels_test are the corresponding item labels\n",
    "\n",
    "features_train, features_test, labels_train, labels_test = preprocess()"
   ]
  },
  {
   "cell_type": "code",
   "execution_count": 8,
   "metadata": {},
   "outputs": [
    {
     "name": "stdout",
     "output_type": "stream",
     "text": [
      "Training time 961 s\n",
      "0.4920364050056883\n"
     ]
    }
   ],
   "source": [
    "from sklearn import svm\n",
    "from sklearn.metrics import accuracy_score\n",
    "\n",
    "clf = svm.SVC(C = 10**-4, kernel = 'rbf', gamma = 10**-4)\n",
    "t0 = time()\n",
    "clf.fit(features_train, labels_train)\n",
    "print(\"Training time\", round(time()-t0),\"s\")\n",
    "\n",
    "pred = clf.predict(features_test)\n",
    "print(accuracy_score(pred, labels_test))"
   ]
  },
  {
   "cell_type": "code",
   "execution_count": 9,
   "metadata": {},
   "outputs": [
    {
     "name": "stdout",
     "output_type": "stream",
     "text": [
      "Training time 2607 s\n",
      "0.8993174061433447\n"
     ]
    }
   ],
   "source": [
    "clf = svm.SVC(C = 10**4, kernel = 'rbf', gamma = 10**4)\n",
    "t0 = time()\n",
    "clf.fit(features_train, labels_train)\n",
    "print(\"Training time\", round(time()-t0),\"s\")\n",
    "\n",
    "pred = clf.predict(features_test)\n",
    "print(accuracy_score(pred, labels_test))"
   ]
  },
  {
   "cell_type": "code",
   "execution_count": 29,
   "metadata": {},
   "outputs": [
    {
     "data": {
      "text/plain": [
       "(15820, 3785)"
      ]
     },
     "execution_count": 29,
     "metadata": {},
     "output_type": "execute_result"
    }
   ],
   "source": [
    "features_train.shape"
   ]
  },
  {
   "cell_type": "code",
   "execution_count": 32,
   "metadata": {},
   "outputs": [
    {
     "name": "stdout",
     "output_type": "stream",
     "text": [
      "Training time 0 s\n",
      "0.8845278725824801\n"
     ]
    }
   ],
   "source": [
    "clf = svm.SVC(C=1, kernel='linear', gamma=1/3785)\n",
    "t0 = time()\n",
    "\n",
    "features_train_1 = features_train[:round(len(features_train)/100)]\n",
    "labels_train_1 = labels_train[:round(len(labels_train)/100)]\n",
    "\n",
    "clf.fit(features_train_1, labels_train_1)\n",
    "print(\"Training time\", round(time()-t0),\"s\")\n",
    "\n",
    "pred = clf.predict(features_test)\n",
    "print(accuracy_score(pred, labels_test))"
   ]
  },
  {
   "cell_type": "code",
   "execution_count": 33,
   "metadata": {},
   "outputs": [
    {
     "name": "stdout",
     "output_type": "stream",
     "text": [
      "Training time 0 s\n",
      "0.6160409556313993\n"
     ]
    }
   ],
   "source": [
    "clf = svm.SVC(C=1, kernel='rbf', gamma=1/3785)\n",
    "t0 = time()\n",
    "\n",
    "features_train_1 = features_train[:round(len(features_train)/100)]\n",
    "labels_train_1 = labels_train[:round(len(labels_train)/100)]\n",
    "\n",
    "clf.fit(features_train_1, labels_train_1)\n",
    "print(\"Training time\", round(time()-t0),\"s\")\n",
    "\n",
    "pred = clf.predict(features_test)\n",
    "print(accuracy_score(pred, labels_test))"
   ]
  },
  {
   "cell_type": "code",
   "execution_count": 49,
   "metadata": {},
   "outputs": [
    {
     "name": "stdout",
     "output_type": "stream",
     "text": [
      "Training time 0 s\n",
      "0.8959044368600683\n"
     ]
    }
   ],
   "source": [
    "clf = svm.SVC(C=7500, kernel='rbf', gamma=1/3785)\n",
    "t0 = time()\n",
    "\n",
    "features_train_1 = features_train[:round(len(features_train)/100)]\n",
    "labels_train_1 = labels_train[:round(len(labels_train)/100)]\n",
    "\n",
    "clf.fit(features_train_1, labels_train_1)\n",
    "print(\"Training time\", round(time()-t0),\"s\")\n",
    "\n",
    "pred = clf.predict(features_test)\n",
    "print(accuracy_score(pred, labels_test))"
   ]
  },
  {
   "cell_type": "code",
   "execution_count": 50,
   "metadata": {},
   "outputs": [
    {
     "name": "stdout",
     "output_type": "stream",
     "text": [
      "Training time 110 s\n",
      "0.9903299203640501\n"
     ]
    }
   ],
   "source": [
    "clf = svm.SVC(C=7500, kernel='rbf', gamma=1/3785)\n",
    "t0 = time()\n",
    "\n",
    "clf.fit(features_train, labels_train)\n",
    "print(\"Training time\", round(time()-t0),\"s\")\n",
    "\n",
    "pred = clf.predict(features_test)\n",
    "print(accuracy_score(pred, labels_test))"
   ]
  },
  {
   "cell_type": "code",
   "execution_count": 51,
   "metadata": {},
   "outputs": [
    {
     "name": "stdout",
     "output_type": "stream",
     "text": [
      "Training time 79 s\n",
      "0.9948805460750854\n"
     ]
    }
   ],
   "source": [
    "clf = svm.SVC(C=7500, kernel='linear', gamma=1/3785)\n",
    "t0 = time()\n",
    "\n",
    "clf.fit(features_train, labels_train)\n",
    "print(\"Training time\", round(time()-t0),\"s\")\n",
    "\n",
    "pred = clf.predict(features_test)\n",
    "print(accuracy_score(pred, labels_test))"
   ]
  },
  {
   "cell_type": "code",
   "execution_count": 56,
   "metadata": {},
   "outputs": [
    {
     "data": {
      "text/plain": [
       "(1, 0, 1)"
      ]
     },
     "execution_count": 56,
     "metadata": {},
     "output_type": "execute_result"
    }
   ],
   "source": [
    "pred[10], pred[26], pred[50]"
   ]
  },
  {
   "cell_type": "code",
   "execution_count": 57,
   "metadata": {},
   "outputs": [
    {
     "data": {
      "text/plain": [
       "(0, 1, 0)"
      ]
     },
     "execution_count": 57,
     "metadata": {},
     "output_type": "execute_result"
    }
   ],
   "source": [
    "pred[9], pred[25], pred[49]"
   ]
  },
  {
   "cell_type": "code",
   "execution_count": 63,
   "metadata": {},
   "outputs": [
    {
     "name": "stdout",
     "output_type": "stream",
     "text": [
      "Training time 98 s\n",
      "0.9908987485779295\n"
     ]
    }
   ],
   "source": [
    "clf = svm.SVC(C=10000, kernel='rbf', gamma=1/3785)\n",
    "t0 = time()\n",
    "\n",
    "clf.fit(features_train, labels_train)\n",
    "print(\"Training time\", round(time()-t0),\"s\")\n",
    "\n",
    "pred = clf.predict(features_test)\n",
    "print(accuracy_score(pred, labels_test))"
   ]
  },
  {
   "cell_type": "code",
   "execution_count": 64,
   "metadata": {},
   "outputs": [
    {
     "data": {
      "text/plain": [
       "877"
      ]
     },
     "execution_count": 64,
     "metadata": {},
     "output_type": "execute_result"
    }
   ],
   "source": [
    "#Quiz\n",
    "sum(pred)"
   ]
  }
 ],
 "metadata": {
  "kernelspec": {
   "display_name": "Python [conda env:py35]",
   "language": "python",
   "name": "conda-env-py35-py"
  },
  "language_info": {
   "codemirror_mode": {
    "name": "ipython",
    "version": 3
   },
   "file_extension": ".py",
   "mimetype": "text/x-python",
   "name": "python",
   "nbconvert_exporter": "python",
   "pygments_lexer": "ipython3",
   "version": "3.5.5"
  }
 },
 "nbformat": 4,
 "nbformat_minor": 2
}
