{
 "cells": [
  {
   "cell_type": "code",
   "execution_count": 1,
   "metadata": {},
   "outputs": [],
   "source": [
    "#!/usr/bin/python\n",
    "\n",
    "\"\"\" \n",
    "    Starter code for exploring the Enron dataset (emails + finances);\n",
    "    loads up the dataset (pickled dict of dicts).\n",
    "\n",
    "    The dataset has the form:\n",
    "    enron_data[\"LASTNAME FIRSTNAME MIDDLEINITIAL\"] = { features_dict }\n",
    "\n",
    "    {features_dict} is a dictionary of features associated with that person.\n",
    "    You should explore features_dict as part of the mini-project,\n",
    "    but here's an example to get you started:\n",
    "\n",
    "    enron_data[\"SKILLING JEFFREY K\"][\"bonus\"] = 5600000\n",
    "    \n",
    "\"\"\"\n",
    "\n",
    "import pickle"
   ]
  },
  {
   "cell_type": "code",
   "execution_count": 2,
   "metadata": {},
   "outputs": [],
   "source": [
    "enron_data = pickle.load(open(\"../final_project/final_project_dataset.pkl\", \"rb\"))"
   ]
  },
  {
   "cell_type": "code",
   "execution_count": 5,
   "metadata": {},
   "outputs": [
    {
     "data": {
      "text/plain": [
       "146"
      ]
     },
     "execution_count": 5,
     "metadata": {},
     "output_type": "execute_result"
    }
   ],
   "source": [
    "#Size of the enron dataset\n",
    "len(enron_data)"
   ]
  },
  {
   "cell_type": "code",
   "execution_count": 10,
   "metadata": {},
   "outputs": [
    {
     "data": {
      "text/plain": [
       "21"
      ]
     },
     "execution_count": 10,
     "metadata": {},
     "output_type": "execute_result"
    }
   ],
   "source": [
    "#No. of features of each person\n",
    "len(enron_data['ALLEN PHILLIP K'])"
   ]
  },
  {
   "cell_type": "code",
   "execution_count": 24,
   "metadata": {},
   "outputs": [
    {
     "name": "stdout",
     "output_type": "stream",
     "text": [
      "18\n"
     ]
    }
   ],
   "source": [
    "#No. of POIs in E+F dataset\n",
    "poi_count = 0\n",
    "for person, features in enron_data.items():\n",
    "    if(features['poi']==True):\n",
    "        poi_count+=1\n",
    "print(poi_count)"
   ]
  },
  {
   "cell_type": "code",
   "execution_count": 31,
   "metadata": {},
   "outputs": [
    {
     "name": "stdout",
     "output_type": "stream",
     "text": [
      "Total POIs: 35\n"
     ]
    }
   ],
   "source": [
    "#Total no. of POIs\n",
    "poi_file = open(\"../final_project/poi_names.txt\")\n",
    "poi_lines = poi_file.readlines()\n",
    "\n",
    "total_pois = 0\n",
    "\n",
    "for line in poi_lines:\n",
    "    line_len = len(line)\n",
    "    if(line_len > 3):\n",
    "        if((line[0]=='(') & (line[2]==')')):\n",
    "            total_pois+=1\n",
    "        \n",
    "print('Total POIs:', total_pois)"
   ]
  },
  {
   "cell_type": "code",
   "execution_count": 37,
   "metadata": {},
   "outputs": [
    {
     "data": {
      "text/plain": [
       "1095040"
      ]
     },
     "execution_count": 37,
     "metadata": {},
     "output_type": "execute_result"
    }
   ],
   "source": [
    "enron_data['PRENTICE JAMES']['total_stock_value']"
   ]
  },
  {
   "cell_type": "code",
   "execution_count": 41,
   "metadata": {},
   "outputs": [
    {
     "data": {
      "text/plain": [
       "11"
      ]
     },
     "execution_count": 41,
     "metadata": {},
     "output_type": "execute_result"
    }
   ],
   "source": [
    "enron_data['COLWELL WESLEY']['from_this_person_to_poi']"
   ]
  },
  {
   "cell_type": "code",
   "execution_count": 45,
   "metadata": {},
   "outputs": [
    {
     "data": {
      "text/plain": [
       "19250000"
      ]
     },
     "execution_count": 45,
     "metadata": {},
     "output_type": "execute_result"
    }
   ],
   "source": [
    "enron_data['SKILLING JEFFREY K']['exercised_stock_options']"
   ]
  },
  {
   "cell_type": "code",
   "execution_count": 50,
   "metadata": {},
   "outputs": [
    {
     "data": {
      "text/plain": [
       "(8682716, 103559793, 2424083)"
      ]
     },
     "execution_count": 50,
     "metadata": {},
     "output_type": "execute_result"
    }
   ],
   "source": [
    "enron_data['SKILLING JEFFREY K']['total_payments'], \\\n",
    "enron_data['LAY KENNETH L']['total_payments'], \\\n",
    "enron_data['FASTOW ANDREW S']['total_payments']"
   ]
  },
  {
   "cell_type": "code",
   "execution_count": 57,
   "metadata": {},
   "outputs": [
    {
     "name": "stdout",
     "output_type": "stream",
     "text": [
      "No. of employees with qualified salary: 95\n",
      "No. of employees with known email address: 111\n",
      "No. of employees with unknown total payments: 21\n",
      "% employees with unknown total payments: 14.38\n"
     ]
    }
   ],
   "source": [
    "email_count = 0\n",
    "salary_count = 0\n",
    "tot_pay_count = 0\n",
    "\n",
    "for name, features in enron_data.items():\n",
    "    if(enron_data[name]['email_address'] != 'NaN'):\n",
    "        email_count+=1\n",
    "    if(enron_data[name]['salary'] != 'NaN'):\n",
    "        salary_count+=1\n",
    "    if(enron_data[name]['total_payments'] == 'NaN'):\n",
    "        tot_pay_count+=1\n",
    "        \n",
    "print('No. of employees with qualified salary:', salary_count)\n",
    "print('No. of employees with known email address:', email_count)\n",
    "print('No. of employees with unknown total payments:', tot_pay_count)\n",
    "print('% employees with unknown total payments:', round(tot_pay_count/len(enron_data)*100,2))"
   ]
  },
  {
   "cell_type": "code",
   "execution_count": 62,
   "metadata": {},
   "outputs": [
    {
     "name": "stdout",
     "output_type": "stream",
     "text": [
      "% of pois with unknown total payments: 0.0\n"
     ]
    }
   ],
   "source": [
    "poi_count = 0\n",
    "poi_tot_pay_count = 0\n",
    "\n",
    "for name, features in enron_data.items():\n",
    "    if(enron_data[name]['poi'] == True):\n",
    "        poi_count+=1\n",
    "        if(enron_data[name]['total_payments'] == 'NaN'):\n",
    "            poi_tot_pay_count+=1\n",
    "        \n",
    "print('% of pois with unknown total payments:', round(poi_tot_pay_count/poi_count*100,2))"
   ]
  },
  {
   "cell_type": "code",
   "execution_count": 61,
   "metadata": {},
   "outputs": [
    {
     "data": {
      "text/plain": [
       "0.35714285714285715"
      ]
     },
     "execution_count": 61,
     "metadata": {},
     "output_type": "execute_result"
    }
   ],
   "source": [
    "10/28"
   ]
  }
 ],
 "metadata": {
  "kernelspec": {
   "display_name": "Python [conda env:py35]",
   "language": "python",
   "name": "conda-env-py35-py"
  },
  "language_info": {
   "codemirror_mode": {
    "name": "ipython",
    "version": 3
   },
   "file_extension": ".py",
   "mimetype": "text/x-python",
   "name": "python",
   "nbconvert_exporter": "python",
   "pygments_lexer": "ipython3",
   "version": "3.5.5"
  }
 },
 "nbformat": 4,
 "nbformat_minor": 2
}
